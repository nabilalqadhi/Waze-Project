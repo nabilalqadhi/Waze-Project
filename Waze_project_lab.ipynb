{
  "cells": [
    {
      "cell_type": "markdown",
      "metadata": {
        "id": "DtNBZFHO3M7n"
      },
      "source": [
        "# **Waze Project**\n"
      ]
    },
    {
      "cell_type": "markdown",
      "metadata": {
        "id": "rgSbVJvomcVa"
      },
      "source": [
        "# Data exploration and hypothesis project\n",
        "\n",
        "\n",
        "\n",
        "\n",
        "In this activity, you will explore the data provided and conduct a hypothesis test.\n",
        "<br/>\n",
        "\n",
        "**The purpose** of this project is to demostrate knowledge of how to conduct a two-sample hypothesis test.\n",
        "\n",
        "**The goal** is to apply descriptive statistics and hypothesis testing in Python.\n",
        "<br/>\n",
        "\n",
        "*This activity has three parts:*\n",
        "\n",
        "**Part 1:** Imports and data loading\n",
        "* What data packages will be necessary for hypothesis testing?\n",
        "\n",
        "**Part 2:** Conduct hypothesis testing\n",
        "* How did computing descriptive statistics help you analyze your data?\n",
        "\n",
        "* How did you formulate your null hypothesis and alternative hypothesis?\n",
        "\n",
        "**Part 3:** Communicate insights with stakeholders\n",
        "\n",
        "* What key business insight(s) emerged from your hypothesis test?\n",
        "\n",
        "* What business recommendations do you propose based on your results?\n",
        "\n",
        "<br/>\n",
        "\n",
        "\n",
        "Follow the instructions and answer the questions below to complete the activity. Then, you will complete an Executive Summary using the questions listed on the PACE Strategy Document.\n",
        "\n",
        "Be sure to complete this activity before moving on. The next course item will provide you with a completed exemplar to compare to your own work.\n",
        "\n"
      ]
    },
    {
      "cell_type": "markdown",
      "metadata": {
        "id": "Fs2A_FgMAQhe"
      },
      "source": [
        "# **Data exploration and hypothesis testing**"
      ]
    },
    {
      "cell_type": "markdown",
      "metadata": {
        "id": "N8qrn_UAzX6j"
      },
      "source": [
        "<img src=\"images/Pace.png\" width=\"100\" height=\"100\" align=left>\n",
        "\n",
        "# **PACE stages**"
      ]
    },
    {
      "cell_type": "markdown",
      "metadata": {
        "id": "uaTT5L94hh5s"
      },
      "source": [
        "Throughout these project notebooks, you'll see references to the problem-solving framework PACE. The following notebook components are labeled with the respective PACE stage: Plan, Analyze, Construct, and Execute."
      ]
    },
    {
      "cell_type": "markdown",
      "metadata": {
        "id": "Bb1HNu3FzX6k"
      },
      "source": [
        "<img src=\"images/Plan.png\" width=\"100\" height=\"100\" align=left>\n",
        "\n",
        "\n",
        "## **PACE: Plan**\n",
        "\n",
        "Consider the questions in your PACE Strategy Document and those below to craft your response:\n",
        "1. What is your research question for this data project? Later on, you will need to formulate the null and alternative hypotheses as the first step of your hypothesis test. Consider your research question now, at the start of this task.\n"
      ]
    },
    {
      "cell_type": "markdown",
      "metadata": {
        "id": "F6_h60RuXQIz"
      },
      "source": [
        "**Research question:**\n",
        "\n",
        "\"Do drivers who open the application using an iPhone have the same number of drives on average as drivers who use Android devices?\""
      ]
    },
    {
      "cell_type": "markdown",
      "metadata": {
        "id": "Kp3uDhhSg_qu"
      },
      "source": [
        "*Complete the following tasks to perform statistical analysis of your data:*"
      ]
    },
    {
      "cell_type": "markdown",
      "metadata": {
        "id": "xgQEdIN7f1Jq"
      },
      "source": [
        "### **Task 1. Imports and data loading**"
      ]
    },
    {
      "cell_type": "markdown",
      "metadata": {
        "id": "ehehvUzFj0-e"
      },
      "source": [
        "Import packages and libraries needed to compute descriptive statistics and conduct a hypothesis test."
      ]
    },
    {
      "cell_type": "markdown",
      "metadata": {
        "id": "e6cryW4WgiIL"
      },
      "source": [
        "<details>\n",
        "  <summary><h4><strong>Hint:</strong></h4></summary>\n",
        "\n",
        "Before you begin, recall the following Python packages and functions:\n",
        "\n",
        "*Main functions*: stats.ttest_ind(a, b, equal_var)\n",
        "\n",
        "*Other functions*: mean()\n",
        "\n",
        "*Packages*: pandas, stats.scipy\n",
        "\n",
        "</details>"
      ]
    },
    {
      "cell_type": "code",
      "execution_count": 4,
      "metadata": {
        "id": "1Q-GL2UrgWWG"
      },
      "outputs": [],
      "source": [
        "# Import any relevant packages or libraries\n",
        "import pandas as pd\n",
        "from scipy import stats"
      ]
    },
    {
      "cell_type": "markdown",
      "metadata": {
        "id": "stMe9uT3kOmF"
      },
      "source": [
        "Import the dataset.\n"
      ]
    },
    {
      "cell_type": "code",
      "execution_count": 5,
      "metadata": {
        "id": "2qAt6Upaeg6U"
      },
      "outputs": [],
      "source": [
        "# Load dataset into dataframe\n",
        "df = pd.read_csv('waze_dataset.csv')"
      ]
    },
    {
      "cell_type": "markdown",
      "metadata": {
        "id": "c8paWsdKzX6o"
      },
      "source": [
        "<img src=\"images/Analyze.png\" width=\"100\" height=\"100\" align=left>\n",
        "\n",
        "<img src=\"images/Construct.png\" width=\"100\" height=\"100\" align=left>\n",
        "\n",
        "## **PACE: Analyze and Construct**\n",
        "\n",
        "Consider the questions in your PACE Strategy Document and those below to craft your response:\n",
        "1. Data professionals use descriptive statistics for exploratory data analysis (EDA). How can computing descriptive statistics help you learn more about your data in this stage of your analysis?\n"
      ]
    },
    {
      "cell_type": "markdown",
      "metadata": {
        "id": "rX5xJnWUXxsW"
      },
      "source": [
        "**Answer:**\n",
        "\n",
        "In general, descriptive statistics are useful because they let you quickly explore and understand large amounts of data. In this case, computing descriptive statistics helps you quickly compare the average amount of drives by device type.\n"
      ]
    },
    {
      "cell_type": "markdown",
      "metadata": {
        "id": "UKhYTdVhf5B2"
      },
      "source": [
        "### **Task 2. Data exploration**\n",
        "\n",
        "Use descriptive statistics to conduct exploratory eata analysis (EDA).\n"
      ]
    },
    {
      "cell_type": "markdown",
      "metadata": {
        "id": "VrOZH-EGrnkC"
      },
      "source": [
        "<details>\n",
        "  <summary><h4><strong>Hint:</strong></h4></summary>\n",
        "\n",
        "Refer back to *Self Review Descriptive Statistics* for this step-by-step process.\n",
        "\n",
        "</details>"
      ]
    },
    {
      "cell_type": "markdown",
      "metadata": {
        "id": "JAq7ag0pTNgl"
      },
      "source": [
        "**Note:** In the dataset, `device` is a categorical variable with the labels `iPhone` and `Android`.\n",
        "\n",
        "In order to perform this analysis, you must turn each label into an integer.  The following code assigns a `1` for an `iPhone` user and a `2` for `Android`.  It assigns this label back to the variable `device_type`.\n",
        "\n",
        "**Note:** Creating a new variable is ideal so that you don't overwrite original data.\n",
        "\n"
      ]
    },
    {
      "cell_type": "markdown",
      "metadata": {
        "id": "n3_h-Gt-g7Vc"
      },
      "source": [
        "1. Create a dictionary called `map_dictionary` that contains the class labels (`'Android'` and `'iPhone'`) for keys and the values you want to convert them to (`2` and `1`) as values.\n",
        "\n",
        "2. Create a new column called `device_type` that is a copy of the `device` column.\n",
        "\n",
        "3. Use the [`map()`](https://pandas.pydata.org/docs/reference/api/pandas.Series.map.html#pandas-series-map) method on the `device_type` series. Pass `map_dictionary` as its argument. Reassign the result back to the `device_type` series.\n",
        "</br></br>\n",
        "When you pass a dictionary to the `Series.map()` method, it will replace the data in the series where that data matches the dictionary's keys. The values that get imputed are the values of the dictionary.\n",
        "\n",
        "```\n",
        "Example:\n",
        "df['column']\n",
        "```\n",
        "\n",
        "|column |\n",
        "|  :-:       |\n",
        "| A     |\n",
        "| B     |\n",
        "| A     |\n",
        "| B     |\n",
        "\n",
        "```\n",
        "map_dictionary = {'A': 2, 'B': 1}\n",
        "df['column'] = df['column'].map(map_dictionary)\n",
        "df['column']\n",
        "```\n",
        "\n",
        "|column |\n",
        "|  :-: |\n",
        "| 2    |\n",
        "| 1    |\n",
        "| 2    |\n",
        "| 1    |\n"
      ]
    },
    {
      "cell_type": "code",
      "execution_count": 6,
      "metadata": {
        "colab": {
          "base_uri": "https://localhost:8080/"
        },
        "id": "PFV0nIWyg4AQ",
        "outputId": "6a727adb-2632-41c4-ab58-0e8e5ee5445f"
      },
      "outputs": [
        {
          "output_type": "execute_result",
          "data": {
            "text/plain": [
              "0    2\n",
              "1    1\n",
              "2    2\n",
              "3    1\n",
              "4    2\n",
              "Name: device_type, dtype: int64"
            ]
          },
          "metadata": {},
          "execution_count": 6
        }
      ],
      "source": [
        "# 1. Create `map_dictionary`\n",
        "map_dictionary = {'Android': 2, 'iPhone': 1}\n",
        "\n",
        "# 2. Create new `device_type` column\n",
        "df['device_type'] = df['device']\n",
        "\n",
        "# 3. Map the new column to the dictionary\n",
        "df['device_type'] = df['device_type'].map(map_dictionary)\n",
        "\n",
        "df['device_type'].head()"
      ]
    },
    {
      "cell_type": "code",
      "source": [
        "df.head()"
      ],
      "metadata": {
        "colab": {
          "base_uri": "https://localhost:8080/",
          "height": 226
        },
        "id": "P7kbjmh4evL9",
        "outputId": "29f06ba4-d6fb-4353-baff-517ac3343a4e"
      },
      "execution_count": 7,
      "outputs": [
        {
          "output_type": "execute_result",
          "data": {
            "text/plain": [
              "   ID     label  sessions  drives  total_sessions  n_days_after_onboarding  \\\n",
              "0   0  retained       283     226      296.748273                     2276   \n",
              "1   1  retained       133     107      326.896596                     1225   \n",
              "2   2  retained       114      95      135.522926                     2651   \n",
              "3   3  retained        49      40       67.589221                       15   \n",
              "4   4  retained        84      68      168.247020                     1562   \n",
              "\n",
              "   total_navigations_fav1  total_navigations_fav2  driven_km_drives  \\\n",
              "0                     208                       0       2628.845068   \n",
              "1                      19                      64      13715.920550   \n",
              "2                       0                       0       3059.148818   \n",
              "3                     322                       7        913.591123   \n",
              "4                     166                       5       3950.202008   \n",
              "\n",
              "   duration_minutes_drives  activity_days  driving_days   device  device_type  \n",
              "0              1985.775061             28            19  Android            2  \n",
              "1              3160.472914             13            11   iPhone            1  \n",
              "2              1610.735904             14             8  Android            2  \n",
              "3               587.196542              7             3   iPhone            1  \n",
              "4              1219.555924             27            18  Android            2  "
            ],
            "text/html": [
              "\n",
              "  <div id=\"df-7a993591-d6b3-4a95-87d4-2f6e0e5e919f\" class=\"colab-df-container\">\n",
              "    <div>\n",
              "<style scoped>\n",
              "    .dataframe tbody tr th:only-of-type {\n",
              "        vertical-align: middle;\n",
              "    }\n",
              "\n",
              "    .dataframe tbody tr th {\n",
              "        vertical-align: top;\n",
              "    }\n",
              "\n",
              "    .dataframe thead th {\n",
              "        text-align: right;\n",
              "    }\n",
              "</style>\n",
              "<table border=\"1\" class=\"dataframe\">\n",
              "  <thead>\n",
              "    <tr style=\"text-align: right;\">\n",
              "      <th></th>\n",
              "      <th>ID</th>\n",
              "      <th>label</th>\n",
              "      <th>sessions</th>\n",
              "      <th>drives</th>\n",
              "      <th>total_sessions</th>\n",
              "      <th>n_days_after_onboarding</th>\n",
              "      <th>total_navigations_fav1</th>\n",
              "      <th>total_navigations_fav2</th>\n",
              "      <th>driven_km_drives</th>\n",
              "      <th>duration_minutes_drives</th>\n",
              "      <th>activity_days</th>\n",
              "      <th>driving_days</th>\n",
              "      <th>device</th>\n",
              "      <th>device_type</th>\n",
              "    </tr>\n",
              "  </thead>\n",
              "  <tbody>\n",
              "    <tr>\n",
              "      <th>0</th>\n",
              "      <td>0</td>\n",
              "      <td>retained</td>\n",
              "      <td>283</td>\n",
              "      <td>226</td>\n",
              "      <td>296.748273</td>\n",
              "      <td>2276</td>\n",
              "      <td>208</td>\n",
              "      <td>0</td>\n",
              "      <td>2628.845068</td>\n",
              "      <td>1985.775061</td>\n",
              "      <td>28</td>\n",
              "      <td>19</td>\n",
              "      <td>Android</td>\n",
              "      <td>2</td>\n",
              "    </tr>\n",
              "    <tr>\n",
              "      <th>1</th>\n",
              "      <td>1</td>\n",
              "      <td>retained</td>\n",
              "      <td>133</td>\n",
              "      <td>107</td>\n",
              "      <td>326.896596</td>\n",
              "      <td>1225</td>\n",
              "      <td>19</td>\n",
              "      <td>64</td>\n",
              "      <td>13715.920550</td>\n",
              "      <td>3160.472914</td>\n",
              "      <td>13</td>\n",
              "      <td>11</td>\n",
              "      <td>iPhone</td>\n",
              "      <td>1</td>\n",
              "    </tr>\n",
              "    <tr>\n",
              "      <th>2</th>\n",
              "      <td>2</td>\n",
              "      <td>retained</td>\n",
              "      <td>114</td>\n",
              "      <td>95</td>\n",
              "      <td>135.522926</td>\n",
              "      <td>2651</td>\n",
              "      <td>0</td>\n",
              "      <td>0</td>\n",
              "      <td>3059.148818</td>\n",
              "      <td>1610.735904</td>\n",
              "      <td>14</td>\n",
              "      <td>8</td>\n",
              "      <td>Android</td>\n",
              "      <td>2</td>\n",
              "    </tr>\n",
              "    <tr>\n",
              "      <th>3</th>\n",
              "      <td>3</td>\n",
              "      <td>retained</td>\n",
              "      <td>49</td>\n",
              "      <td>40</td>\n",
              "      <td>67.589221</td>\n",
              "      <td>15</td>\n",
              "      <td>322</td>\n",
              "      <td>7</td>\n",
              "      <td>913.591123</td>\n",
              "      <td>587.196542</td>\n",
              "      <td>7</td>\n",
              "      <td>3</td>\n",
              "      <td>iPhone</td>\n",
              "      <td>1</td>\n",
              "    </tr>\n",
              "    <tr>\n",
              "      <th>4</th>\n",
              "      <td>4</td>\n",
              "      <td>retained</td>\n",
              "      <td>84</td>\n",
              "      <td>68</td>\n",
              "      <td>168.247020</td>\n",
              "      <td>1562</td>\n",
              "      <td>166</td>\n",
              "      <td>5</td>\n",
              "      <td>3950.202008</td>\n",
              "      <td>1219.555924</td>\n",
              "      <td>27</td>\n",
              "      <td>18</td>\n",
              "      <td>Android</td>\n",
              "      <td>2</td>\n",
              "    </tr>\n",
              "  </tbody>\n",
              "</table>\n",
              "</div>\n",
              "    <div class=\"colab-df-buttons\">\n",
              "\n",
              "  <div class=\"colab-df-container\">\n",
              "    <button class=\"colab-df-convert\" onclick=\"convertToInteractive('df-7a993591-d6b3-4a95-87d4-2f6e0e5e919f')\"\n",
              "            title=\"Convert this dataframe to an interactive table.\"\n",
              "            style=\"display:none;\">\n",
              "\n",
              "  <svg xmlns=\"http://www.w3.org/2000/svg\" height=\"24px\" viewBox=\"0 -960 960 960\">\n",
              "    <path d=\"M120-120v-720h720v720H120Zm60-500h600v-160H180v160Zm220 220h160v-160H400v160Zm0 220h160v-160H400v160ZM180-400h160v-160H180v160Zm440 0h160v-160H620v160ZM180-180h160v-160H180v160Zm440 0h160v-160H620v160Z\"/>\n",
              "  </svg>\n",
              "    </button>\n",
              "\n",
              "  <style>\n",
              "    .colab-df-container {\n",
              "      display:flex;\n",
              "      gap: 12px;\n",
              "    }\n",
              "\n",
              "    .colab-df-convert {\n",
              "      background-color: #E8F0FE;\n",
              "      border: none;\n",
              "      border-radius: 50%;\n",
              "      cursor: pointer;\n",
              "      display: none;\n",
              "      fill: #1967D2;\n",
              "      height: 32px;\n",
              "      padding: 0 0 0 0;\n",
              "      width: 32px;\n",
              "    }\n",
              "\n",
              "    .colab-df-convert:hover {\n",
              "      background-color: #E2EBFA;\n",
              "      box-shadow: 0px 1px 2px rgba(60, 64, 67, 0.3), 0px 1px 3px 1px rgba(60, 64, 67, 0.15);\n",
              "      fill: #174EA6;\n",
              "    }\n",
              "\n",
              "    .colab-df-buttons div {\n",
              "      margin-bottom: 4px;\n",
              "    }\n",
              "\n",
              "    [theme=dark] .colab-df-convert {\n",
              "      background-color: #3B4455;\n",
              "      fill: #D2E3FC;\n",
              "    }\n",
              "\n",
              "    [theme=dark] .colab-df-convert:hover {\n",
              "      background-color: #434B5C;\n",
              "      box-shadow: 0px 1px 3px 1px rgba(0, 0, 0, 0.15);\n",
              "      filter: drop-shadow(0px 1px 2px rgba(0, 0, 0, 0.3));\n",
              "      fill: #FFFFFF;\n",
              "    }\n",
              "  </style>\n",
              "\n",
              "    <script>\n",
              "      const buttonEl =\n",
              "        document.querySelector('#df-7a993591-d6b3-4a95-87d4-2f6e0e5e919f button.colab-df-convert');\n",
              "      buttonEl.style.display =\n",
              "        google.colab.kernel.accessAllowed ? 'block' : 'none';\n",
              "\n",
              "      async function convertToInteractive(key) {\n",
              "        const element = document.querySelector('#df-7a993591-d6b3-4a95-87d4-2f6e0e5e919f');\n",
              "        const dataTable =\n",
              "          await google.colab.kernel.invokeFunction('convertToInteractive',\n",
              "                                                    [key], {});\n",
              "        if (!dataTable) return;\n",
              "\n",
              "        const docLinkHtml = 'Like what you see? Visit the ' +\n",
              "          '<a target=\"_blank\" href=https://colab.research.google.com/notebooks/data_table.ipynb>data table notebook</a>'\n",
              "          + ' to learn more about interactive tables.';\n",
              "        element.innerHTML = '';\n",
              "        dataTable['output_type'] = 'display_data';\n",
              "        await google.colab.output.renderOutput(dataTable, element);\n",
              "        const docLink = document.createElement('div');\n",
              "        docLink.innerHTML = docLinkHtml;\n",
              "        element.appendChild(docLink);\n",
              "      }\n",
              "    </script>\n",
              "  </div>\n",
              "\n",
              "\n",
              "<div id=\"df-dc2f2c0c-1bb5-4563-9733-568027e60102\">\n",
              "  <button class=\"colab-df-quickchart\" onclick=\"quickchart('df-dc2f2c0c-1bb5-4563-9733-568027e60102')\"\n",
              "            title=\"Suggest charts\"\n",
              "            style=\"display:none;\">\n",
              "\n",
              "<svg xmlns=\"http://www.w3.org/2000/svg\" height=\"24px\"viewBox=\"0 0 24 24\"\n",
              "     width=\"24px\">\n",
              "    <g>\n",
              "        <path d=\"M19 3H5c-1.1 0-2 .9-2 2v14c0 1.1.9 2 2 2h14c1.1 0 2-.9 2-2V5c0-1.1-.9-2-2-2zM9 17H7v-7h2v7zm4 0h-2V7h2v10zm4 0h-2v-4h2v4z\"/>\n",
              "    </g>\n",
              "</svg>\n",
              "  </button>\n",
              "\n",
              "<style>\n",
              "  .colab-df-quickchart {\n",
              "      --bg-color: #E8F0FE;\n",
              "      --fill-color: #1967D2;\n",
              "      --hover-bg-color: #E2EBFA;\n",
              "      --hover-fill-color: #174EA6;\n",
              "      --disabled-fill-color: #AAA;\n",
              "      --disabled-bg-color: #DDD;\n",
              "  }\n",
              "\n",
              "  [theme=dark] .colab-df-quickchart {\n",
              "      --bg-color: #3B4455;\n",
              "      --fill-color: #D2E3FC;\n",
              "      --hover-bg-color: #434B5C;\n",
              "      --hover-fill-color: #FFFFFF;\n",
              "      --disabled-bg-color: #3B4455;\n",
              "      --disabled-fill-color: #666;\n",
              "  }\n",
              "\n",
              "  .colab-df-quickchart {\n",
              "    background-color: var(--bg-color);\n",
              "    border: none;\n",
              "    border-radius: 50%;\n",
              "    cursor: pointer;\n",
              "    display: none;\n",
              "    fill: var(--fill-color);\n",
              "    height: 32px;\n",
              "    padding: 0;\n",
              "    width: 32px;\n",
              "  }\n",
              "\n",
              "  .colab-df-quickchart:hover {\n",
              "    background-color: var(--hover-bg-color);\n",
              "    box-shadow: 0 1px 2px rgba(60, 64, 67, 0.3), 0 1px 3px 1px rgba(60, 64, 67, 0.15);\n",
              "    fill: var(--button-hover-fill-color);\n",
              "  }\n",
              "\n",
              "  .colab-df-quickchart-complete:disabled,\n",
              "  .colab-df-quickchart-complete:disabled:hover {\n",
              "    background-color: var(--disabled-bg-color);\n",
              "    fill: var(--disabled-fill-color);\n",
              "    box-shadow: none;\n",
              "  }\n",
              "\n",
              "  .colab-df-spinner {\n",
              "    border: 2px solid var(--fill-color);\n",
              "    border-color: transparent;\n",
              "    border-bottom-color: var(--fill-color);\n",
              "    animation:\n",
              "      spin 1s steps(1) infinite;\n",
              "  }\n",
              "\n",
              "  @keyframes spin {\n",
              "    0% {\n",
              "      border-color: transparent;\n",
              "      border-bottom-color: var(--fill-color);\n",
              "      border-left-color: var(--fill-color);\n",
              "    }\n",
              "    20% {\n",
              "      border-color: transparent;\n",
              "      border-left-color: var(--fill-color);\n",
              "      border-top-color: var(--fill-color);\n",
              "    }\n",
              "    30% {\n",
              "      border-color: transparent;\n",
              "      border-left-color: var(--fill-color);\n",
              "      border-top-color: var(--fill-color);\n",
              "      border-right-color: var(--fill-color);\n",
              "    }\n",
              "    40% {\n",
              "      border-color: transparent;\n",
              "      border-right-color: var(--fill-color);\n",
              "      border-top-color: var(--fill-color);\n",
              "    }\n",
              "    60% {\n",
              "      border-color: transparent;\n",
              "      border-right-color: var(--fill-color);\n",
              "    }\n",
              "    80% {\n",
              "      border-color: transparent;\n",
              "      border-right-color: var(--fill-color);\n",
              "      border-bottom-color: var(--fill-color);\n",
              "    }\n",
              "    90% {\n",
              "      border-color: transparent;\n",
              "      border-bottom-color: var(--fill-color);\n",
              "    }\n",
              "  }\n",
              "</style>\n",
              "\n",
              "  <script>\n",
              "    async function quickchart(key) {\n",
              "      const quickchartButtonEl =\n",
              "        document.querySelector('#' + key + ' button');\n",
              "      quickchartButtonEl.disabled = true;  // To prevent multiple clicks.\n",
              "      quickchartButtonEl.classList.add('colab-df-spinner');\n",
              "      try {\n",
              "        const charts = await google.colab.kernel.invokeFunction(\n",
              "            'suggestCharts', [key], {});\n",
              "      } catch (error) {\n",
              "        console.error('Error during call to suggestCharts:', error);\n",
              "      }\n",
              "      quickchartButtonEl.classList.remove('colab-df-spinner');\n",
              "      quickchartButtonEl.classList.add('colab-df-quickchart-complete');\n",
              "    }\n",
              "    (() => {\n",
              "      let quickchartButtonEl =\n",
              "        document.querySelector('#df-dc2f2c0c-1bb5-4563-9733-568027e60102 button');\n",
              "      quickchartButtonEl.style.display =\n",
              "        google.colab.kernel.accessAllowed ? 'block' : 'none';\n",
              "    })();\n",
              "  </script>\n",
              "</div>\n",
              "\n",
              "    </div>\n",
              "  </div>\n"
            ],
            "application/vnd.google.colaboratory.intrinsic+json": {
              "type": "dataframe",
              "variable_name": "df",
              "summary": "{\n  \"name\": \"df\",\n  \"rows\": 14999,\n  \"fields\": [\n    {\n      \"column\": \"ID\",\n      \"properties\": {\n        \"dtype\": \"number\",\n        \"std\": 4329,\n        \"min\": 0,\n        \"max\": 14998,\n        \"num_unique_values\": 14999,\n        \"samples\": [\n          6723,\n          6473,\n          4679\n        ],\n        \"semantic_type\": \"\",\n        \"description\": \"\"\n      }\n    },\n    {\n      \"column\": \"label\",\n      \"properties\": {\n        \"dtype\": \"category\",\n        \"num_unique_values\": 2,\n        \"samples\": [\n          \"churned\",\n          \"retained\"\n        ],\n        \"semantic_type\": \"\",\n        \"description\": \"\"\n      }\n    },\n    {\n      \"column\": \"sessions\",\n      \"properties\": {\n        \"dtype\": \"number\",\n        \"std\": 80,\n        \"min\": 0,\n        \"max\": 743,\n        \"num_unique_values\": 469,\n        \"samples\": [\n          142,\n          56\n        ],\n        \"semantic_type\": \"\",\n        \"description\": \"\"\n      }\n    },\n    {\n      \"column\": \"drives\",\n      \"properties\": {\n        \"dtype\": \"number\",\n        \"std\": 65,\n        \"min\": 0,\n        \"max\": 596,\n        \"num_unique_values\": 401,\n        \"samples\": [\n          189,\n          432\n        ],\n        \"semantic_type\": \"\",\n        \"description\": \"\"\n      }\n    },\n    {\n      \"column\": \"total_sessions\",\n      \"properties\": {\n        \"dtype\": \"number\",\n        \"std\": 136.40512847760343,\n        \"min\": 0.2202109438,\n        \"max\": 1216.154633,\n        \"num_unique_values\": 14999,\n        \"samples\": [\n          193.0569446,\n          158.7964088\n        ],\n        \"semantic_type\": \"\",\n        \"description\": \"\"\n      }\n    },\n    {\n      \"column\": \"n_days_after_onboarding\",\n      \"properties\": {\n        \"dtype\": \"number\",\n        \"std\": 1008,\n        \"min\": 4,\n        \"max\": 3500,\n        \"num_unique_values\": 3441,\n        \"samples\": [\n          2332,\n          1713\n        ],\n        \"semantic_type\": \"\",\n        \"description\": \"\"\n      }\n    },\n    {\n      \"column\": \"total_navigations_fav1\",\n      \"properties\": {\n        \"dtype\": \"number\",\n        \"std\": 148,\n        \"min\": 0,\n        \"max\": 1236,\n        \"num_unique_values\": 730,\n        \"samples\": [\n          449,\n          266\n        ],\n        \"semantic_type\": \"\",\n        \"description\": \"\"\n      }\n    },\n    {\n      \"column\": \"total_navigations_fav2\",\n      \"properties\": {\n        \"dtype\": \"number\",\n        \"std\": 45,\n        \"min\": 0,\n        \"max\": 415,\n        \"num_unique_values\": 287,\n        \"samples\": [\n          19,\n          170\n        ],\n        \"semantic_type\": \"\",\n        \"description\": \"\"\n      }\n    },\n    {\n      \"column\": \"driven_km_drives\",\n      \"properties\": {\n        \"dtype\": \"number\",\n        \"std\": 2502.1493337964916,\n        \"min\": 60.44125046,\n        \"max\": 21183.40189,\n        \"num_unique_values\": 14999,\n        \"samples\": [\n          4344.360643,\n          1233.677809\n        ],\n        \"semantic_type\": \"\",\n        \"description\": \"\"\n      }\n    },\n    {\n      \"column\": \"duration_minutes_drives\",\n      \"properties\": {\n        \"dtype\": \"number\",\n        \"std\": 1446.702287563326,\n        \"min\": 18.28208247,\n        \"max\": 15851.72716,\n        \"num_unique_values\": 14999,\n        \"samples\": [\n          2264.211324,\n          731.9878865\n        ],\n        \"semantic_type\": \"\",\n        \"description\": \"\"\n      }\n    },\n    {\n      \"column\": \"activity_days\",\n      \"properties\": {\n        \"dtype\": \"number\",\n        \"std\": 9,\n        \"min\": 0,\n        \"max\": 31,\n        \"num_unique_values\": 32,\n        \"samples\": [\n          3,\n          21\n        ],\n        \"semantic_type\": \"\",\n        \"description\": \"\"\n      }\n    },\n    {\n      \"column\": \"driving_days\",\n      \"properties\": {\n        \"dtype\": \"number\",\n        \"std\": 7,\n        \"min\": 0,\n        \"max\": 30,\n        \"num_unique_values\": 31,\n        \"samples\": [\n          27,\n          16\n        ],\n        \"semantic_type\": \"\",\n        \"description\": \"\"\n      }\n    },\n    {\n      \"column\": \"device\",\n      \"properties\": {\n        \"dtype\": \"category\",\n        \"num_unique_values\": 2,\n        \"samples\": [\n          \"iPhone\",\n          \"Android\"\n        ],\n        \"semantic_type\": \"\",\n        \"description\": \"\"\n      }\n    },\n    {\n      \"column\": \"device_type\",\n      \"properties\": {\n        \"dtype\": \"number\",\n        \"std\": 0,\n        \"min\": 1,\n        \"max\": 2,\n        \"num_unique_values\": 2,\n        \"samples\": [\n          1,\n          2\n        ],\n        \"semantic_type\": \"\",\n        \"description\": \"\"\n      }\n    }\n  ]\n}"
            }
          },
          "metadata": {},
          "execution_count": 7
        }
      ]
    },
    {
      "cell_type": "markdown",
      "metadata": {
        "id": "-fFiNg4hdGBK"
      },
      "source": [
        "You are interested in the relationship between device type and the number of drives. One approach is to look at the average number of drives for each device type. Calculate these averages."
      ]
    },
    {
      "cell_type": "code",
      "execution_count": null,
      "metadata": {
        "colab": {
          "base_uri": "https://localhost:8080/"
        },
        "id": "2LGEWrdVXgI2",
        "outputId": "9af851a4-835f-4276-9622-6de005bd756d"
      },
      "outputs": [
        {
          "data": {
            "text/plain": [
              "device_type\n",
              "1    67.859078\n",
              "2    66.231838\n",
              "Name: drives, dtype: float64"
            ]
          },
          "execution_count": 4,
          "metadata": {},
          "output_type": "execute_result"
        }
      ],
      "source": [
        "df.groupby('device_type')['drives'].mean()"
      ]
    },
    {
      "cell_type": "markdown",
      "metadata": {
        "id": "Z_u-zWvGdfII"
      },
      "source": [
        "Based on the averages shown, it appears that drivers who use an iPhone device to interact with the application have a higher number of drives on average. However, this difference might arise from random sampling, rather than being a true difference in the number of drives. To assess whether the difference is statistically significant, you can conduct a hypothesis test."
      ]
    },
    {
      "cell_type": "markdown",
      "metadata": {
        "id": "QpFRQDaNzX6p"
      },
      "source": [
        "\n",
        "### **Task 3. Hypothesis testing**"
      ]
    },
    {
      "cell_type": "markdown",
      "metadata": {
        "id": "7Mn5GJ460HUS"
      },
      "source": [
        "\n",
        "\n",
        "Your goal is to conduct a two-sample t-test. Recall the steps for conducting a hypothesis test:\n",
        "\n",
        "\n",
        "1.   State the null hypothesis and the alternative hypothesis\n",
        "2.   Choose a signficance level\n",
        "3.   Find the p-value\n",
        "4.   Reject or fail to reject the null hypothesis\n",
        "\n",
        "**Note:** This is a t-test for two independent samples. This is the appropriate test since the two groups are independent (Android users vs. iPhone users)."
      ]
    },
    {
      "cell_type": "markdown",
      "metadata": {
        "id": "pw3YTF5AGfzY"
      },
      "source": [
        "Recall the difference between the null hypothesis ($H_0$) and the alternative hypothesis ($H_A$).\n",
        "\n",
        "**Question:** What are your hypotheses for this data project?"
      ]
    },
    {
      "cell_type": "markdown",
      "metadata": {
        "id": "SkDeGggZYM84"
      },
      "source": [
        "\n",
        "**Hypotheses:**\n",
        "\n",
        "$H_0$: There is no difference in average number of drives between drivers who use iPhone devices and drivers who use Androids.\n",
        "\n",
        "$H_A$: There is a difference in average number of drives between drivers who use iPhone devices and drivers who use Androids."
      ]
    },
    {
      "cell_type": "markdown",
      "metadata": {
        "id": "IVHpnfvNeTUA"
      },
      "source": [
        "Next, choose 5% as the significance level and proceed with a two-sample t-test.\n",
        "\n",
        "You can use the `stats.ttest_ind()` function to perform the test.\n",
        "\n",
        "\n",
        "**Technical note**: The default for the argument `equal_var` in `stats.ttest_ind()` is `True`, which assumes population variances are equal. This equal variance assumption might not hold in practice (that is, there is no strong reason to assume that the two groups have the same variance); you can relax this assumption by setting `equal_var` to `False`, and `stats.ttest_ind()` will perform the unequal variances $t$-test (known as Welch's `t`-test). Refer to the [scipy t-test documentation](https://docs.scipy.org/doc/scipy/reference/generated/scipy.stats.ttest_ind.html) for more information.\n",
        "\n",
        "\n",
        "1. Isolate the `drives` column for iPhone users.\n",
        "2. Isolate the `drives` column for Android users.\n",
        "3. Perform the t-test"
      ]
    },
    {
      "cell_type": "code",
      "execution_count": 8,
      "metadata": {
        "colab": {
          "base_uri": "https://localhost:8080/"
        },
        "id": "rdlsXg7Dhbrd",
        "outputId": "ea4ada6c-934a-4b06-d923-925d3069b326"
      },
      "outputs": [
        {
          "output_type": "execute_result",
          "data": {
            "text/plain": [
              "TtestResult(statistic=1.463523206885235, pvalue=0.143351972680206, df=11345.066049381952)"
            ]
          },
          "metadata": {},
          "execution_count": 8
        }
      ],
      "source": [
        "# 1. Isolate the `drives` column for iPhone users.\n",
        "iPhone = df[df['device_type'] == 1]['drives']\n",
        "\n",
        "# 2. Isolate the `drives` column for Android users.\n",
        "Android = df[df['device_type'] == 2]['drives']\n",
        "\n",
        "# 3. Perform the t-test\n",
        "stats.ttest_ind(a=iPhone, b=Android, equal_var=False)"
      ]
    },
    {
      "cell_type": "markdown",
      "metadata": {
        "id": "4cx01KwnTwY7"
      },
      "source": [
        "**Question:** Based on the p-value you got above, do you reject or fail to reject the null hypothesis?\n",
        "\n",
        "> *Since the p-value is larger than the chosen significance level (5%), you fail to reject the null hypothesis. You conclude that there is **not** a statistically significant difference in the average number of drives between drivers who use iPhones and drivers who use Androids.*"
      ]
    },
    {
      "cell_type": "markdown",
      "metadata": {
        "id": "Ab4e-W3mzX6r"
      },
      "source": [
        "<img src=\"images/Execute.png\" width=\"100\" height=\"100\" align=left>\n",
        "\n",
        "## **PACE: Execute**\n",
        "\n",
        "Consider the questions in your PACE Strategy Document to reflect on the Execute stage."
      ]
    },
    {
      "cell_type": "markdown",
      "metadata": {
        "id": "h1PRfiD3hcwE"
      },
      "source": [
        "### **Task 4: Communicate insights with stakeholders**"
      ]
    },
    {
      "cell_type": "markdown",
      "metadata": {
        "id": "ItreFaZKhvVw"
      },
      "source": [
        "Now that you've completed your hypothesis test, the next step is to share your findings with the Waze leadership team. Consider the following question as you prepare to write your executive summary:\n",
        "\n",
        "* What business insight(s) can you draw from the result of your hypothesis test?\n",
        "\n",
        "> *The key business insight is that drivers who use iPhone devices on average have a similar number of drives as those who use Androids.*\n",
        "\n",
        "> *One potential next step is to explore what other factors influence the variation in the number of drives, and run additonal hypothesis tests to learn more about user behavior. Further, temporary changes in marketing or user interface for the Waze app may provide more data to investigate churn.*"
      ]
    },
    {
      "cell_type": "markdown",
      "metadata": {
        "id": "FM9-R-GK9ZBt"
      },
      "source": [
        "**Congratulations!** You've completed this lab. However, you may not notice a green check mark next to this item on Coursera's platform. Please continue your progress regardless of the check mark. Just click on the \"save\" icon at the top of this notebook to ensure your work has been logged."
      ]
    }
  ],
  "metadata": {
    "colab": {
      "provenance": []
    },
    "kernelspec": {
      "display_name": "Python 3",
      "language": "python",
      "name": "python3"
    },
    "language_info": {
      "codemirror_mode": {
        "name": "ipython",
        "version": 3
      },
      "file_extension": ".py",
      "mimetype": "text/x-python",
      "name": "python",
      "nbconvert_exporter": "python",
      "pygments_lexer": "ipython3",
      "version": "3.7.6"
    }
  },
  "nbformat": 4,
  "nbformat_minor": 0
}